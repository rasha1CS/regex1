{
  "cells": [
    {
      "cell_type": "markdown",
      "metadata": {
        "id": "gKk_dVrZZNtn"
      },
      "source": [
        "# Exercise: Regular Expressions"
      ]
    },
    {
      "cell_type": "code",
      "execution_count": 2,
      "metadata": {
        "id": "4cBH9NgcZNtr"
      },
      "outputs": [],
      "source": [
        "import re"
      ]
    },
    {
      "cell_type": "code",
      "execution_count": null,
      "metadata": {
        "id": "HNM5E9F5ZNts"
      },
      "outputs": [],
      "source": [
        "#1 Question: Match all email addresses (SOLVED)\n",
        "\n",
        "inputs = [\"My email is john@email.com and mary@otherplace.net\",\n",
        "          \"Visit us at support@ourcompany.co.uk for help\",\n",
        "          \"No emails here\"]\n",
        "\n",
        "pattern = r\"(\\w+)@(\\w+)\\.(\\w+)\"\n",
        "\n",
        "matches = []\n",
        "for input in inputs:\n",
        "    matches += re.findall(pattern, input)\n",
        "\n",
        "for m in matches:\n",
        "    username = m[0]\n",
        "    mailserver = m[1]\n",
        "    domain = m[2]\n",
        "    print(f\"Username: {username}\")\n",
        "    print(f\"Mailserver: {mailserver}\")\n",
        "    print(f\"Domain: {domain}\")\n",
        "    print('')"
      ]
    },
    {
      "cell_type": "code",
      "execution_count": null,
      "metadata": {
        "id": "iqnbfFc8ZNtu"
      },
      "outputs": [],
      "source": [
        "#2 Question: Extract domain from email\n",
        "\n",
        "inputs = [\"john@email.com\",\n",
        "          \"mary+newsletter@gmail.com\",\n",
        "          \"support@ourcompany.co.uk\"]\n",
        "\n",
        "# your code here ...:\n",
        "\n",
        "pattern = r\"@(\\w+\\.\\w+)\"\n",
        "\n",
        "for email_address in inputs:\n",
        "    match = re.search(pattern, email_address)\n",
        "    if match:\n",
        "        domain = match.group(1)\n",
        "        print(f\"The domain of the email '{email_address}' is: {domain}\")\n",
        "    else:\n",
        "        print(f\"No domain found in the email '{email_address}'.\")"
      ]
    },
    {
      "cell_type": "code",
      "execution_count": 6,
      "metadata": {
        "colab": {
          "base_uri": "https://localhost:8080/"
        },
        "id": "pC8dl6TbZNtu",
        "outputId": "d8b40df0-faa6-409c-b0e6-59d3fca49653"
      },
      "outputs": [
        {
          "output_type": "stream",
          "name": "stdout",
          "text": [
            "The phone number '555-123-4567' is valid.\n",
            "The input '1 (234) 567-8910' is not a valid phone number.\n",
            "The input 'notaphonenumber' is not a valid phone number.\n"
          ]
        }
      ],
      "source": [
        "#3 Question: Validate phone number\n",
        "\n",
        "inputs = [\"555-123-4567\",\n",
        "          \"1 (234) 567-8910\",\n",
        "          \"notaphonenumber\"]\n",
        "\n",
        "# your code here ...:\n",
        "import re\n",
        "\n",
        "phone_pattern = re.compile(r\"^\\d{3}[-\\.\\s]?\\d{3}[-\\.\\s]?\\d{4}$\")\n",
        "\n",
        "for phone_number in inputs:\n",
        "    if phone_pattern.match(phone_number):\n",
        "        print(f\"The phone number '{phone_number}' is valid.\")\n",
        "    else:\n",
        "        print(f\"The input '{phone_number}' is not a valid phone number.\")\n"
      ]
    },
    {
      "cell_type": "code",
      "execution_count": 8,
      "metadata": {
        "colab": {
          "base_uri": "https://localhost:8080/"
        },
        "id": "0QXAdZuOZNtu",
        "outputId": "fb5293ad-b6c3-44f1-f99d-4844015a274a"
      },
      "outputs": [
        {
          "output_type": "stream",
          "name": "stdout",
          "text": [
            "The area code in '(555) 123-4567' is: 555\n",
            "The area code in '1 (234) 567-8910' is: 234\n",
            "The area code in '5551234567' is: 555\n"
          ]
        }
      ],
      "source": [
        "#4 Question: Extract area code\n",
        "\n",
        "inputs = [\"(555) 123-4567\",\n",
        "          \"1 (234) 567-8910\",\n",
        "          \"5551234567\"]\n",
        "\n",
        "# your code here ...:\n",
        "\n",
        "\n",
        "area_code_pattern = re.compile(r\"\\((\\d{3})\\)|^1?\\s?\\((\\d{3})\\)|^1?\\s?(\\d{3})\")\n",
        "\n",
        "for phone_number in inputs:\n",
        "    match = area_code_pattern.search(phone_number)\n",
        "    if match:\n",
        "        area_code = next(code for code in match.groups() if code is not None)\n",
        "        print(f\"The area code in '{phone_number}' is: {area_code}\")\n",
        "    else:\n",
        "        print(f\"No area code found in '{phone_number}'.\")"
      ]
    },
    {
      "cell_type": "code",
      "execution_count": 9,
      "metadata": {
        "colab": {
          "base_uri": "https://localhost:8080/"
        },
        "id": "swxGauPuZNtv",
        "outputId": "9c73e4e4-1cc5-483e-ca59-a55081832e34"
      },
      "outputs": [
        {
          "output_type": "stream",
          "name": "stdout",
          "text": [
            "In 'Visit https://www.example.com for more info':\n",
            "  Host: www.example.com\n",
            "No URLs found in 'Our website is example.com'.\n",
            "No URLs found in 'No URLs here'.\n"
          ]
        }
      ],
      "source": [
        "#5 Question: Match URLs and extract host\n",
        "\n",
        "inputs = [\"Visit https://www.example.com for more info\",\n",
        "          \"Our website is example.com\",\n",
        "          \"No URLs here\"]\n",
        "\n",
        "# your code here ...:\n",
        "url_pattern = re.compile(r'https?://([a-zA-Z0-9.-]+)')\n",
        "\n",
        "for text in inputs:\n",
        "    matches = url_pattern.findall(text)\n",
        "    if matches:\n",
        "        print(f\"In '{text}':\")\n",
        "        for host in matches:\n",
        "            print(f\"  Host: {host}\")\n",
        "    else:\n",
        "        print(f\"No URLs found in '{text}'.\")"
      ]
    },
    {
      "cell_type": "code",
      "execution_count": 10,
      "metadata": {
        "colab": {
          "base_uri": "https://localhost:8080/"
        },
        "id": "_J9Cob6SZNtv",
        "outputId": "22ecb8e0-ab79-4736-f837-44c52358c855"
      },
      "outputs": [
        {
          "output_type": "stream",
          "name": "stdout",
          "text": [
            "Original: 'Hello world!', Cleaned: 'Hello world'\n",
            "Original: '123 Main St.', Cleaned: ' Main St'\n",
            "Original: 'greetings&more', Cleaned: 'greetingsmore'\n"
          ]
        }
      ],
      "source": [
        "#6 Question: Remove non-alphabetic characters\n",
        "\n",
        "inputs = [\"Hello world!\",\n",
        "          \"123 Main St.\",\n",
        "          \"greetings&more\"]\n",
        "\n",
        "# your code here ...:\n",
        "\n",
        "clean_pattern = re.compile(r'[^a-zA-Z\\s]')\n",
        "\n",
        "for text in inputs:\n",
        "    cleaned_text = clean_pattern.sub('', text)\n",
        "    print(f\"Original: '{text}', Cleaned: '{cleaned_text}'\")\n"
      ]
    },
    {
      "cell_type": "code",
      "execution_count": 11,
      "metadata": {
        "colab": {
          "base_uri": "https://localhost:8080/"
        },
        "id": "3u7dSrxiZNtw",
        "outputId": "387bb4f1-060f-4ea5-eee0-164c14df9212"
      },
      "outputs": [
        {
          "output_type": "stream",
          "name": "stdout",
          "text": [
            "In 'This is a test sentence with the word station in it.':\n",
            "  Word: station\n",
            "In 'No words containing tion here':\n",
            "  Word: tion\n",
            "In 'motion activation vacation':\n",
            "  Word: motion\n",
            "  Word: activation\n",
            "  Word: vacation\n"
          ]
        }
      ],
      "source": [
        "#7 Question: Find words containing \"tion\"\n",
        "\n",
        "inputs = [\"This is a test sentence with the word station in it.\",\n",
        "          \"No words containing tion here\",\n",
        "          \"motion activation vacation\"]\n",
        "\n",
        "# your code here ...:\n",
        "\n",
        "tion_pattern = re.compile(r'\\b\\w*tion\\w*\\b')\n",
        "\n",
        "for text in inputs:\n",
        "    matches = tion_pattern.findall(text)\n",
        "    if matches:\n",
        "        print(f\"In '{text}':\")\n",
        "        for word in matches:\n",
        "            print(f\"  Word: {word}\")\n",
        "    else:\n",
        "        print(f\"No words containing 'tion' found in '{text}'.\")\n"
      ]
    },
    {
      "cell_type": "code",
      "execution_count": 12,
      "metadata": {
        "colab": {
          "base_uri": "https://localhost:8080/"
        },
        "id": "S16QKiJxZNtw",
        "outputId": "7ce612e0-8ab7-43cf-944b-f9015d442010"
      },
      "outputs": [
        {
          "output_type": "stream",
          "name": "stdout",
          "text": [
            "Original: 'hello world', Replaced: 'goodbye world'\n",
            "Original: 'hello there', Replaced: 'goodbye there'\n",
            "Original: 'no match', Replaced: 'no match'\n"
          ]
        }
      ],
      "source": [
        "#8 Question: Replace all occurrences of \"hello\" with \"goodbye\"\n",
        "\n",
        "inputs = [\"hello world\",\n",
        "          \"hello there\",\n",
        "          \"no match\"]\n",
        "\n",
        " # your code here ...:\n",
        "\n",
        "\n",
        "hello_pattern = re.compile(r'\\bhello\\b')\n",
        "\n",
        "for text in inputs:\n",
        "    replaced_text = hello_pattern.sub('goodbye', text)\n",
        "    print(f\"Original: '{text}', Replaced: '{replaced_text}'\")\n"
      ]
    },
    {
      "cell_type": "code",
      "execution_count": 13,
      "metadata": {
        "colab": {
          "base_uri": "https://localhost:8080/"
        },
        "id": "3hLwXStPZNtw",
        "outputId": "5d183045-5587-4d98-a292-2e34a3c39a51"
      },
      "outputs": [
        {
          "output_type": "stream",
          "name": "stdout",
          "text": [
            "In 'Log from 2023-01-15':\n",
            "  Date: 2023-01-15\n",
            "In 'Meeting on 2023-02-01T13:00:00Z':\n",
            "  Date: 2023-02-01T13:00:00Z\n",
            "No ISO8601 dates found in 'No dates'.\n"
          ]
        }
      ],
      "source": [
        "#9 Question: Extract date strings in ISO8601 format\n",
        "\n",
        "inputs = [\"Log from 2023-01-15\",\n",
        "          \"Meeting on 2023-02-01T13:00:00Z\",\n",
        "          \"No dates\"]\n",
        "\n",
        " # your code here ...:\n",
        "\n",
        "iso8601_pattern = re.compile(r'\\b\\d{4}-\\d{2}-\\d{2}(?:T\\d{2}:\\d{2}:\\d{2}Z)?\\b')\n",
        "\n",
        "for text in inputs:\n",
        "    matches = iso8601_pattern.findall(text)\n",
        "    if matches:\n",
        "        print(f\"In '{text}':\")\n",
        "        for date_string in matches:\n",
        "            print(f\"  Date: {date_string}\")\n",
        "    else:\n",
        "        print(f\"No ISO8601 dates found in '{text}'.\")\n"
      ]
    },
    {
      "cell_type": "code",
      "execution_count": 14,
      "metadata": {
        "colab": {
          "base_uri": "https://localhost:8080/"
        },
        "id": "sf3RKCjuZNtw",
        "outputId": "7cae7eeb-8e3c-47cb-b2a0-7196d0552e1d"
      },
      "outputs": [
        {
          "output_type": "stream",
          "name": "stdout",
          "text": [
            "The date '2023-01-15' is correctly formatted.\n",
            "The input '02/01/2023' is not a correctly formatted date.\n",
            "The input 'invalid date' is not a correctly formatted date.\n"
          ]
        }
      ],
      "source": [
        "#10 Question: Validate correctly formatted date\n",
        "\n",
        "inputs = [\"2023-01-15\",\n",
        "          \"02/01/2023\",\n",
        "          \"invalid date\"]\n",
        "\n",
        " # your code here ...:\n",
        "date_pattern = re.compile(r'\\b\\d{4}-\\d{2}-\\d{2}\\b')\n",
        "\n",
        "for date_string in inputs:\n",
        "    match = date_pattern.fullmatch(date_string)\n",
        "    if match:\n",
        "        print(f\"The date '{date_string}' is correctly formatted.\")\n",
        "    else:\n",
        "        print(f\"The input '{date_string}' is not a correctly formatted date.\")\n",
        "\n"
      ]
    },
    {
      "cell_type": "code",
      "execution_count": 15,
      "metadata": {
        "colab": {
          "base_uri": "https://localhost:8080/"
        },
        "id": "QYhvhEFeZNtx",
        "outputId": "9e348093-3848-4bd8-f4b5-526bf93e5180"
      },
      "outputs": [
        {
          "output_type": "stream",
          "name": "stdout",
          "text": [
            "Original: 'Hello! World?', Cleaned: 'Hello World'\n",
            "Original: '123-Main_St.', Cleaned: '123-MainSt'\n",
            "Original: 'Hi there.', Cleaned: 'Hi there'\n"
          ]
        }
      ],
      "source": [
        "#11 Question: Remove punctuation except hyphens\n",
        "\n",
        "inputs = [\"Hello! World?\",\n",
        "          \"123-Main_St.\",\n",
        "          \"Hi there.\"]\n",
        "\n",
        " # your code here ...:\n",
        "\n",
        "\n",
        "cleaned_pattern = re.compile(r'[^a-zA-Z0-9\\s-]')\n",
        "\n",
        "for text in inputs:\n",
        "    cleaned_text = cleaned_pattern.sub('', text)\n",
        "    print(f\"Original: '{text}', Cleaned: '{cleaned_text}'\")\n"
      ]
    },
    {
      "cell_type": "code",
      "execution_count": 16,
      "metadata": {
        "colab": {
          "base_uri": "https://localhost:8080/"
        },
        "id": "zT1UjTNWZNtx",
        "outputId": "831857c9-756c-4f3b-f921-38c640fffc8e"
      },
      "outputs": [
        {
          "output_type": "stream",
          "name": "stdout",
          "text": [
            "The word 'hello' occurs 2 times in 'Hello world. Hello!'.\n",
            "The word 'hello' occurs 2 times in 'Hello hello world'.\n",
            "The word 'hello' occurs 0 times in 'no match'.\n"
          ]
        }
      ],
      "source": [
        "#12 Question: Count occurrences of a word\n",
        "\n",
        "inputs = [\"Hello world. Hello!\",\n",
        "          \"Hello hello world\",\n",
        "          \"no match\"]\n",
        "\n",
        "# your code here ...:\n",
        "\n",
        "word_to_count = \"hello\"\n",
        "word_count_pattern = re.compile(r'\\b' + re.escape(word_to_count) + r'\\b', flags=re.IGNORECASE)\n",
        "\n",
        "for text in inputs:\n",
        "    count = len(word_count_pattern.findall(text))\n",
        "    print(f\"The word '{word_to_count}' occurs {count} times in '{text}'.\")\n"
      ]
    },
    {
      "cell_type": "code",
      "execution_count": 17,
      "metadata": {
        "colab": {
          "base_uri": "https://localhost:8080/"
        },
        "id": "CzAjQUj5ZNtx",
        "outputId": "4b6a28e2-4174-47f0-ec46-6f6ffa246db1"
      },
      "outputs": [
        {
          "output_type": "stream",
          "name": "stdout",
          "text": [
            "In '127.0.0.1 - GET /':\n",
            "  IP: 127.0.0.1\n",
            "In 'User logged in from 192.168.1.1':\n",
            "  IP: 192.168.1.1\n",
            "No IP addresses found in 'No IPs'.\n"
          ]
        }
      ],
      "source": [
        "#13 Question: Extract IP addresses from log\n",
        "\n",
        "inputs = [\"127.0.0.1 - GET /\",\n",
        "          \"User logged in from 192.168.1.1\",\n",
        "          \"No IPs\"]\n",
        "\n",
        "# your code here ...:\n",
        "\n",
        "ip_pattern = re.compile(r'\\b(?:\\d{1,3}\\.){3}\\d{1,3}\\b')\n",
        "\n",
        "for log_entry in inputs:\n",
        "    ips = ip_pattern.findall(log_entry)\n",
        "    if ips:\n",
        "        print(f\"In '{log_entry}':\")\n",
        "        for ip in ips:\n",
        "            print(f\"  IP: {ip}\")\n",
        "    else:\n",
        "        print(f\"No IP addresses found in '{log_entry}'.\")\n"
      ]
    },
    {
      "cell_type": "code",
      "execution_count": 18,
      "metadata": {
        "colab": {
          "base_uri": "https://localhost:8080/"
        },
        "id": "IO01cstCZNtx",
        "outputId": "a779b84e-f49f-4e59-afe3-80dbe9c559c7"
      },
      "outputs": [
        {
          "output_type": "stream",
          "name": "stdout",
          "text": [
            "Original: 'Visa: 4111-1111-1111-1111', Redacted: 'Visa: [Credit Card]'\n",
            "Original: 'My SSN is 111-11-1111', Redacted: 'My SSN is [SSN]'\n",
            "Original: 'No numbers', Redacted: 'No numbers'\n"
          ]
        }
      ],
      "source": [
        "#14 Question: Redact credit card and SSN numbers\n",
        "\n",
        "inputs = [\"Visa: 4111-1111-1111-1111\",\n",
        "          \"My SSN is 111-11-1111\",\n",
        "          \"No numbers\"]\n",
        "\n",
        "# your code here ...:\n",
        "\n",
        "credit_card_pattern = re.compile(r'\\b(?:\\d[ -]*?){15,16}\\d\\b')\n",
        "\n",
        "ssn_pattern = re.compile(r'\\b\\d{3}-\\d{2}-\\d{4}\\b')\n",
        "\n",
        "for text in inputs:\n",
        "    redacted_text = credit_card_pattern.sub('[Credit Card]', text)\n",
        "    redacted_text = ssn_pattern.sub('[SSN]', redacted_text)\n",
        "    print(f\"Original: '{text}', Redacted: '{redacted_text}'\")\n"
      ]
    }
  ],
  "metadata": {
    "kernelspec": {
      "display_name": "ds",
      "language": "python",
      "name": "python3"
    },
    "language_info": {
      "codemirror_mode": {
        "name": "ipython",
        "version": 3
      },
      "file_extension": ".py",
      "mimetype": "text/x-python",
      "name": "python",
      "nbconvert_exporter": "python",
      "pygments_lexer": "ipython3",
      "version": "3.9.18"
    },
    "colab": {
      "provenance": []
    }
  },
  "nbformat": 4,
  "nbformat_minor": 0
}